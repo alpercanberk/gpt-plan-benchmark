{
 "cells": [
  {
   "cell_type": "code",
   "execution_count": 3,
   "metadata": {},
   "outputs": [
    {
     "name": "stdout",
     "output_type": "stream",
     "text": [
      "Index(['Unnamed: 0', 'delta_perplexity', 'delta_plan_length',\n",
      "       'gpt3_plan_length', 'gt_plan_length', 'gpt3_perplexity',\n",
      "       'gt_perplexity'],\n",
      "      dtype='object')\n"
     ]
    }
   ],
   "source": [
    "import pandas as pd \n",
    "\n",
    "csv_path = '/local/crv/acanberk/gpt-plan-benchmark/stats.csv'\n",
    "\n",
    "df = pd.read_csv(csv_path)\n",
    "\n",
    "#print columns\n",
    "print(df.columns)\n",
    "\"\"\"\n",
    "Index(['Unnamed: 0', 'delta_perplexity', 'delta_plan_length',\n",
    "       'gpt3_plan_length', 'gt_plan_length', 'gpt3_perplexity',\n",
    "       'gt_perplexity'],\n",
    "      dtype='object')\n",
    "\"\"\"\n",
    "\n",
    "#Graph 1: delta perplexity vs delta plan length\n",
    "\n",
    "import matplotlib.pyplot as plt\n",
    "\n",
    "plt.scatter(df['delta_perplexity'], df['delta_plan_length'])\n",
    "plt.xlabel('delta perplexity')\n",
    "plt.ylabel('delta plan length')\n",
    "plt.show()\n",
    "\n",
    "#Graph 2: gpt3 perplexity vs gt perplexity\n",
    "\n",
    "# plt.scatter(df['gpt3_perplexity'], df['gt_perplexity'])\n",
    "# plt.xlabel('gpt3 perplexity')\n",
    "# plt.ylabel('gt perplexity')\n",
    "# plt.show()\n",
    "\n",
    "#Graph 3: gpt3 perplexity vs delta perplexity\n",
    "\n"
   ]
  },
  {
   "cell_type": "code",
   "execution_count": null,
   "metadata": {},
   "outputs": [],
   "source": []
  }
 ],
 "metadata": {
  "kernelspec": {
   "display_name": "Python 3",
   "language": "python",
   "name": "python3"
  },
  "language_info": {
   "codemirror_mode": {
    "name": "ipython",
    "version": 3
   },
   "file_extension": ".py",
   "mimetype": "text/x-python",
   "name": "python",
   "nbconvert_exporter": "python",
   "pygments_lexer": "ipython3",
   "version": "3.8.10"
  },
  "orig_nbformat": 4
 },
 "nbformat": 4,
 "nbformat_minor": 2
}
